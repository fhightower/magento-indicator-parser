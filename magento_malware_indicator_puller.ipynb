{
 "cells": [
  {
   "cell_type": "code",
   "execution_count": 3,
   "metadata": {
    "collapsed": true
   },
   "outputs": [],
   "source": [
    "import os\n",
    "import re"
   ]
  },
  {
   "cell_type": "code",
   "execution_count": 10,
   "metadata": {
    "collapsed": false
   },
   "outputs": [],
   "source": [
    "IDENTIFIERS = {\n",
    "    # too hard:\n",
    "#     '2sinlesspleasure.com.js': \"(function(){function LCWEHH\",\n",
    "#     'amasty.biz': \"104,116,116,112,46,111,112,101,110,40,34,80,79,83,84,34,44,34,(.*?),34\",\n",
    "#     # too few samples to consider:\n",
    "# #     'amasty.biz.js': 'var x=\"t_p#0.qlb#0.#1Blsj',\n",
    "#     # the regex below may need some tlc... it doesn't have any matches\n",
    "#     'americanwineclub.se.js': \"\\('\\\\x3c\\\\x73\\\\x63\\\\x72'\\+'\\\\x69\\\\x70\\\\x74 \\\\x74\\\\x79\\\\x70\\\\x65\\\\x3d\\\\x22\\\\x74\\\\x65\\\\x78\\\\x74\\\\x2f\\\\x6a\\\\x61\\\\x76\\\\x61\\\\x73\\\\x63\\\\x72\\\\x69\\\\x70\\\\x74\\\\x22 \\\\x73\\\\x72\\\\x63\\\\x3d\\\\x22(.*?)\\\\x22\\\\x3e\\\\x3c\\\\x2f\\\\x73\\\\x63\\\\x72'\\+'\\\\x69\\\\x70\\\\x74\\\\x3e'\\)\",\n",
    "#     'cloudfusion.me.js': \"\\\"<div />\\\"\\)\\.html\\(\\\"(.*?)\\\"\\)\\.text\\(\\),\",\n",
    "#     'gate.php.js': \"jQuery.ajax\\({url:'(.*?)',crossDomain:false\",\n",
    "#     'grelos_v.js': \"var _0xc188=\\[\\\"(.*?)\\\",\",\n",
    "#     'grelos_v_simple.js': \"Glink:.?'(.*?)',\",\n",
    "    # the domains from this regex may not be malicious as it may only be posting to a page on the infected site (https://github.com/fhightower/magento-malware-collection/blob/master/js/infopromo.biz.js)\n",
    "#     'infopromo.biz.js': \"http\\.open\\(\\\"POST\\\",\\\"(.*?)\\\",true\\)\",\n",
    "#     'jquery-code.su-charcode.js': \"115,114,99,61,(.*?),34,62,60,47,115,99,114,39,43,39,105,112,116,62,39,41,59,10,125,59\",\n",
    "#     # too hard for initial passes:\n",
    "# #     'jquery-code.su-multipacked.js': \"var lII='=oQKpkyJ8dCK0lGbwNnLn42b\",\n",
    "# #     'jquery-code.su-multipacked.js_EXPERIMENT1': \"var lII=\",\n",
    "# #     'jquery-code.su-multipacked.js_EXPERIMENT2': \"=oQKpkyJ8dCK0lGbwNnLn42b\",\n",
    "#     # this regex is captured by grelos_v_simple.js\n",
    "# #     'jquery-code.su.js': \"var fa3b79b10153ce22c599aa4c035e421b3={\\nsnd:null,\",\n",
    "#     'js-save.link.js': \"\\\\x3C\\\\x73\\\\x63\\\\x72\\\\x69\\\\x70\\\\x74\\\\x20\\\\x73\\\\x72\\\\x63\\\\x3D(.*?)\\\\x3E\\\\x3C\\\\x2F\\\\x73\\\\x63\\\\x72\\\\x69\\\\x70\\\\x74\\\\x3E\",\n",
    "#     'mage-cdn.link.js': \"\\\"(.*?)\\\",\\\"\\\\x50\\\\x4F\\\\x53\\\\x54\\\"\",\n",
    "#     'megalith-games.com.js': \"frm_fill\\(\\\"(.*?)\\\"\\+n\\),\",\n",
    "    # this regex is handled by the cloudfusion.me.js regex\n",
    "#     'ownsafety.org.js': \"function jj(e){\",  \n",
    "    # this one doesn't have any indicators...\n",
    "#     'returntosender.nl.js': r'var _0x1137=[\"\\x63\\x6C\\x69\\x63\\x6B',\n",
    "}"
   ]
  },
  {
   "cell_type": "code",
   "execution_count": 11,
   "metadata": {
    "collapsed": true
   },
   "outputs": [],
   "source": [
    "identified_domains = {}\n",
    "\n",
    "for identifier in IDENTIFIERS:\n",
    "    identified_domains[identifier] = set()"
   ]
  },
  {
   "cell_type": "code",
   "execution_count": 12,
   "metadata": {
    "collapsed": false
   },
   "outputs": [
    {
     "name": "stdout",
     "output_type": "stream",
     "text": [
      "4829\n"
     ]
    }
   ],
   "source": [
    "file_count = 0\n",
    "\n",
    "for root, dirs, files in os.walk(\"./html/\"):\n",
    "    for html in files:\n",
    "        if html.endswith(\".html\"):\n",
    "            with open(os.path.join(\"./html/\", html), 'r') as f:\n",
    "                file_count += 1\n",
    "                file_text = f.read()\n",
    "\n",
    "                for name, identifier_string in IDENTIFIERS.items():\n",
    "#                     if identifier_string in file_text:\n",
    "#                         identified_domains[name].append(f.name)\n",
    "                    matches = re.findall(str(identifier_string), file_text)\n",
    "                    \n",
    "                    if any(matches):\n",
    "                        for match in matches:\n",
    "                            identified_domains[name].add(match)\n",
    "\n",
    "                f.close()\n",
    "\n",
    "print(file_count)"
   ]
  },
  {
   "cell_type": "code",
   "execution_count": 13,
   "metadata": {
    "collapsed": false,
    "scrolled": true
   },
   "outputs": [
    {
     "data": {
      "text/plain": [
       "{'megalith-games.com.js': {'http://megalith-games.com/log.php?mag=',\n",
       "  'http://www.verigo.verigo.nazwa.pl/components/com_jce/editor/jarjit/log.php?mag=',\n",
       "  'https://t.obet.us/gagal/log.php?mag='}}"
      ]
     },
     "execution_count": 13,
     "metadata": {},
     "output_type": "execute_result"
    }
   ],
   "source": [
    "identified_domains"
   ]
  },
  {
   "cell_type": "code",
   "execution_count": 14,
   "metadata": {
    "collapsed": false
   },
   "outputs": [],
   "source": [
    "with open(os.path.join('./output/', 'part_4.txt'), 'w+') as f:\n",
    "    f.write(str(identified_domains))\n",
    "    f.close()"
   ]
  },
  {
   "cell_type": "code",
   "execution_count": 15,
   "metadata": {
    "collapsed": false
   },
   "outputs": [
    {
     "name": "stdout",
     "output_type": "stream",
     "text": [
      "megalith-games.com.js: 3\n",
      "\n",
      "\n",
      "Total Callbacks Found: 3\n"
     ]
    }
   ],
   "source": [
    "sum = 0\n",
    "\n",
    "for i in identified_domains:\n",
    "    domain_count = len(identified_domains[i])\n",
    "    print(\"{}: {}\".format(i, domain_count))\n",
    "    sum += domain_count\n",
    "    \n",
    "print(\"\\n\\nTotal Callbacks Found: {}\".format(sum))"
   ]
  },
  {
   "cell_type": "code",
   "execution_count": null,
   "metadata": {
    "collapsed": true
   },
   "outputs": [],
   "source": []
  },
  {
   "cell_type": "code",
   "execution_count": null,
   "metadata": {
    "collapsed": true
   },
   "outputs": [],
   "source": []
  },
  {
   "cell_type": "code",
   "execution_count": null,
   "metadata": {
    "collapsed": true
   },
   "outputs": [],
   "source": []
  },
  {
   "cell_type": "code",
   "execution_count": null,
   "metadata": {
    "collapsed": true
   },
   "outputs": [],
   "source": []
  },
  {
   "cell_type": "code",
   "execution_count": null,
   "metadata": {
    "collapsed": true
   },
   "outputs": [],
   "source": [
    "jquery-code.su-multipacked.js_EXPERIMENT2: 41\n",
    "cloudfusion.me.js: 1049\n",
    "infopromo.biz.js: 0\n",
    "grelos_v.js: 1141\n",
    "jquery-code.su-multipacked.js_EXPERIMENT1: 41\n",
    "js-save.link.js: 640\n",
    "jquery-code.su-charcode.js: 1\n",
    "mage-cdn.link.js: 0\n",
    "grelos_v_simple.js: 998\n",
    "ownsafety.org.js: 364\n",
    "americanwineclub.se.js: 1\n",
    "jquery-code.su-multipacked.js: 41\n",
    "jquery-code.su.js: 0\n",
    "amasty.biz.js: 1\n",
    "returntosender.nl.js: 213\n",
    "amasty.biz: 1\n",
    "megalith-games.com.js: 25\n",
    "gate.php.js: 18\n",
    "2sinlesspleasure.com.js: 51"
   ]
  }
 ],
 "metadata": {
  "kernelspec": {
   "display_name": "Python 3",
   "language": "python",
   "name": "python3"
  },
  "language_info": {
   "codemirror_mode": {
    "name": "ipython",
    "version": 3
   },
   "file_extension": ".py",
   "mimetype": "text/x-python",
   "name": "python",
   "nbconvert_exporter": "python",
   "pygments_lexer": "ipython3",
   "version": "3.4.3"
  }
 },
 "nbformat": 4,
 "nbformat_minor": 0
}
