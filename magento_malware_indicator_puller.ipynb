{
 "cells": [
  {
   "cell_type": "code",
   "execution_count": 1,
   "metadata": {
    "collapsed": true
   },
   "outputs": [],
   "source": [
    "import os\n",
    "import re"
   ]
  },
  {
   "cell_type": "code",
   "execution_count": 2,
   "metadata": {
    "collapsed": false
   },
   "outputs": [],
   "source": [
    "IDENTIFIERS = {\n",
    "#     '2sinlesspleasure.com.js': \"(function(){function LCWEHH\",\n",
    "    'amasty.biz': \"104,116,116,112,46,111,112,101,110,40,34,80,79,83,84,34,44,34,(.*?),34\",\n",
    "#     'amasty.biz.js': 'var x=\"t_p#0.qlb#0.#1Blsj',\n",
    "    # the regex below may need some tlc... it doesn't have any matches\n",
    "    'americanwineclub.se.js': \"\\('\\\\x3c\\\\x73\\\\x63\\\\x72'\\+'\\\\x69\\\\x70\\\\x74 \\\\x74\\\\x79\\\\x70\\\\x65\\\\x3d\\\\x22\\\\x74\\\\x65\\\\x78\\\\x74\\\\x2f\\\\x6a\\\\x61\\\\x76\\\\x61\\\\x73\\\\x63\\\\x72\\\\x69\\\\x70\\\\x74\\\\x22 \\\\x73\\\\x72\\\\x63\\\\x3d\\\\x22(.*?)\\\\x22\\\\x3e\\\\x3c\\\\x2f\\\\x73\\\\x63\\\\x72'\\+'\\\\x69\\\\x70\\\\x74\\\\x3e'\\)\",\n",
    "    'cloudfusion.me.js': \"\\\"<div />\\\"\\)\\.html\\(\\\"(.*?)\\\"\\)\\.text\\(\\),\",\n",
    "    'gate.php.js': \"jQuery.ajax\\({url:'(.*?)',crossDomain:false\",\n",
    "#     'grelos_v.js': r'var _0xc188=[\"\\x68\\x74\\x74\\x70\\x73\\x3A\\x2F',\n",
    "    'grelos_v_simple.js': \"Glink:.?'(.*?)',\",\n",
    "    # the domains from this regex may not be malicious as it may only be posting to a page on the infected site (https://github.com/fhightower/magento-malware-collection/blob/master/js/infopromo.biz.js)\n",
    "    'infopromo.biz.js': \"http\\.open\\(\\\"POST\\\",\\\"(.*?)\\\",true\\)\",\n",
    "#     'jquery-code.su-charcode.js': \"<!--UPS delivery code-->\", # this file has another phrase in the js that could be used to identify files\n",
    "#     'jquery-code.su-multipacked.js': \"var lII='=oQKpkyJ8dCK0lGbwNnLn42b\",\n",
    "#     'jquery-code.su-multipacked.js_EXPERIMENT1': \"var lII=\",\n",
    "#     'jquery-code.su-multipacked.js_EXPERIMENT2': \"=oQKpkyJ8dCK0lGbwNnLn42b\",\n",
    "#     'jquery-code.su.js': \"var fa3b79b10153ce22c599aa4c035e421b3={\\nsnd:null,\", # this regex is captured by grelos_v_simple.js\n",
    "#     'js-save.link.js': r'var _0x7539=[\"\\x6C\\x6F\\x63',\n",
    "#     'mage-cdn.link.js': r'var _0xe94f=[\"\\x70\\x5F\\x6D\\x65\\x74',\n",
    "    'megalith-games.com.js': \"frm_fill\\(\\\"(.*?)\\\"\\+n\\),\",\n",
    "#     'ownsafety.org.js': \"function jj(e){\",  # this regex is handled by the cloudfusion.me.js regex\n",
    "#     'returntosender.nl.js': r'var _0x1137=[\"\\x63\\x6C\\x69\\x63\\x6B',\n",
    "}"
   ]
  },
  {
   "cell_type": "code",
   "execution_count": 3,
   "metadata": {
    "collapsed": true
   },
   "outputs": [],
   "source": [
    "identified_domains = {}\n",
    "\n",
    "for identifier in IDENTIFIERS:\n",
    "    identified_domains[identifier] = set()"
   ]
  },
  {
   "cell_type": "code",
   "execution_count": 4,
   "metadata": {
    "collapsed": false
   },
   "outputs": [
    {
     "name": "stdout",
     "output_type": "stream",
     "text": [
      "4829\n"
     ]
    }
   ],
   "source": [
    "file_count = 0\n",
    "\n",
    "for root, dirs, files in os.walk(\"./html/\"):\n",
    "    for html in files:\n",
    "        if html.endswith(\".html\"):\n",
    "            with open(os.path.join(\"./html/\", html), 'r') as f:\n",
    "                file_count += 1\n",
    "                file_text = f.read()\n",
    "\n",
    "                for name, identifier_string in IDENTIFIERS.items():\n",
    "#                     if identifier_string in file_text:\n",
    "#                         identified_domains[name].append(f.name)\n",
    "                    matches = re.findall(str(identifier_string), file_text)\n",
    "                    \n",
    "                    if any(matches):\n",
    "                        for match in matches:\n",
    "                            identified_domains[name].add(match)\n",
    "\n",
    "                f.close()\n",
    "\n",
    "print(file_count)"
   ]
  },
  {
   "cell_type": "code",
   "execution_count": 5,
   "metadata": {
    "collapsed": false,
    "scrolled": true
   },
   "outputs": [
    {
     "data": {
      "text/plain": [
       "{'amasty.biz': {'104,116,116,112,115,58,47,47,97,109,97,115,116,121,46,98,105,122,47,108,105,98,47,112,97,121,112,97,108,95,105,99,111,110,46,106,112,103'},\n",
       " 'americanwineclub.se.js': set(),\n",
       " 'cloudfusion.me.js': {'&#104;&#116;&#116;&#112;&#115;&#58;&#47;&#47;&#111;&#119;&#110;&#115;&#97;&#102;&#101;&#116;&#121;&#46;&#111;&#114;&#103;&#47;&#111;&#112;&#112;&#46;&#112;&#104;&#112;',\n",
       "  '&#104;&#116;&#116;&#112;&#115;&#58;&#47;&#47;&#98;&#97;&#100;&#46;&#103;&#117;&#121;&#47;&#106;&#113;&#117;&#101;&#114;&#121;&#46;&#112;&#104;&#112; ',\n",
       "  '&#104;&#116;&#116;&#112;&#115;&#58;&#47;&#47;&#99;&#108;&#111;&#117;&#100;&#102;&#117;&#115;&#105;&#111;&#110;&#46;&#109;&#101;&#47;&#99;&#100;&#110;&#47;&#106;&#113;&#117;&#101;&#114;&#121;&#46;&#109;&#105;&#110;&#46;&#106;&#115;',\n",
       "  '&#104;&#116;&#116;&#112;&#58;&#47;&#47;&#111;&#119;&#110;&#115;&#97;&#102;&#101;&#116;&#121;&#46;&#111;&#114;&#103;&#47;&#111;&#112;&#112;&#46;&#112;&#104;&#112;',\n",
       "  '&#104;&#116;&#116;&#112;&#58;&#47;&#47;&#57;&#49;&#46;&#50;&#50;&#51;&#46;&#56;&#50;&#46;&#49;&#50;&#49;&#47;&#110;&#111;&#116;&#105;&#102;&#121;&#47;&#112;&#111;&#115;&#116;&#46;&#112;&#104;&#112;',\n",
       "  '&#104;&#116;&#116;&#112;&#58;&#47;&#47;&#57;&#49;&#46;&#50;&#50;&#51;&#46;&#56;&#50;&#46;&#49;&#50;&#54;&#47;&#110;&#111;&#116;&#105;&#102;&#121;&#47;&#97;&#106;&#97;&#120;&#46;&#112;&#104;&#112;',\n",
       "  '&#x68;&#x74;&#x74;&#x70;&#x3A;&#x2F;&#x2F;&#x64;&#x69;&#x74;&#x74;&#x6D;&#x2E;&#x6F;&#x72;&#x67;&#x2F;&#x61;&#x70;&#x69;&#x2F;',\n",
       "  '&#x68;&#x74;&#x74;&#x70;&#x73;&#x3A;&#x2F;&#x2F;&#x64;&#x69;&#x74;&#x74;&#x6D;&#x2E;&#x6F;&#x72;&#x67;&#x2F;&#x61;&#x70;&#x69;&#x2F;&#x69;&#x6E;&#x64;&#x65;&#x78;&#x2E;&#x70;&#x68;&#x70;',\n",
       "  '&#x68;&#x74;&#x74;&#x70;&#x73;&#x3A;&#x2F;&#x2F;&#x69;&#x6F;&#x7A;&#x6F;&#x7A;&#x2E;&#x63;&#x6F;&#x6D;&#x2F;&#x61;&#x70;&#x69;&#x2F;&#x69;&#x6E;&#x64;&#x65;&#x78;&#x2E;&#x70;&#x68;&#x70;',\n",
       "  '&amp;#104;&amp;#116;&amp;#116;&amp;#112;&amp;#58;&amp;#47;&amp;#47;&amp;#111;&amp;#119;&amp;#110;&amp;#115;&amp;#97;&amp;#102;&amp;#101;&amp;#116;&amp;#121;&amp;#46;&amp;#111;&amp;#114;&amp;#103;&amp;#47;&amp;#111;&amp;#112;&amp;#112;&amp;#46;&amp;#112;&amp;#104;&amp;#112;',\n",
       "  'http://ownsafety.org/opp.php',\n",
       "  'https://cloudfusion.me/cdn/jquery.min.js',\n",
       "  'https://ownsafety.org/opp.php'},\n",
       " 'gate.php.js': {'https://jcloudcdn.com/gate.php?token=KjsS29Msl&host=getdancewear.com',\n",
       "  'https://jcloudcdn.com/gate.php?token=KjsS29Msl&host=graysonhobby.com',\n",
       "  'https://jcloudcdn.com/gate.php?token=KjsS29Msl&host=multifitblades.com',\n",
       "  'https://jcloudcdn.com/gate.php?token=KjsS29Msl&host=thecornishfishmonger.co.uk',\n",
       "  'https://jcloudcdn.com/gate.php?token=KjsS29Msl&host=www.barenecessities.co.uk',\n",
       "  'https://jcloudcdn.com/gate.php?token=KjsS29Msl&host=www.central-textiles.net',\n",
       "  'https://jcloudcdn.com/gate.php?token=KjsS29Msl&host=www.eckraus.com',\n",
       "  'https://jcloudcdn.com/gate.php?token=KjsS29Msl&host=www.fabricmill.com',\n",
       "  'https://jcloudcdn.com/gate.php?token=KjsS29Msl&host=www.inthisveryroom.com',\n",
       "  'https://jcloudcdn.com/gate.php?token=KjsS29Msl&host=www.mandrelbends.com',\n",
       "  'https://jcloudcdn.com/gate.php?token=KjsS29Msl&host=www.maybebabykids.com',\n",
       "  'https://jcloudcdn.com/gate.php?token=KjsS29Msl&host=www.pakshop.eu',\n",
       "  'https://jcloudcdn.com/gate.php?token=KjsS29Msl&host=www.terraskitchen.com',\n",
       "  'https://jcloudcdn.com/gate.php?token=KjsS29Msl&host=www.tiespecialist.com',\n",
       "  'https://jcloudcdn.com/gate.php?token=KjsS29Msl&host=www.yourhomedepot.com.au'},\n",
       " 'grelos_v_simple.js': {'https://cloud-jquery.com/cdn/jquery.min.js',\n",
       "  'https://cloud-jquery.com/cloud/jquery.min.js',\n",
       "  'https://cloud-jquery.com/code/jquery.min.js',\n",
       "  'https://cloud-jquery.com/images/paypal-logo.jpg',\n",
       "  'https://cloud-jquery.com/js/jquery-2.2.2.min.js',\n",
       "  'https://cloud-jquery.net/cdn/jquery.min.js',\n",
       "  'https://cloud-jquery.net/code/jquery.min.js',\n",
       "  'https://cloud-jquery.net/images/paypal-logo.jpg',\n",
       "  'https://cloud-jquery.net/js/jquery-2.2.2.min.js',\n",
       "  'https://cloud-jquery.org/cdn/jquery.min.js',\n",
       "  'https://cloud-jquery.org/code/jquery.min.js',\n",
       "  'https://cloud-jquery.org/images/paypal-logo.jpg',\n",
       "  'https://cloud-jquery.org/js/jquery-2.2.2.min.js',\n",
       "  'https://code.jquery.com/jquery-1.12.2.min.js',\n",
       "  'https://icon-base.biz/code/jquery.min.js',\n",
       "  'https://jquery-cdn.com/cdn/jquery.min.js',\n",
       "  'https://jquery-cdn.com/cloud/jquery.min.js',\n",
       "  'https://jquery-cdn.com/code/jquery.min.js',\n",
       "  'https://jquery-cloud.net/code/jquery.min.js',\n",
       "  'https://jquery-cloud.net/js/jquery-2.2.1.min.js',\n",
       "  'https://jquery-cloud.org/cdn/jquery.min.js',\n",
       "  'https://jquery-cloud.org/code/jquery.min.js',\n",
       "  'https://jquery-cloud.org/js/jquery-2.2.1.min.js',\n",
       "  'https://jquery-cloud.org/js/jquery.min.js',\n",
       "  'https://jquery-code.su/cloud/jquery.min.js',\n",
       "  'https://jquery-code.su/js/jquery-2.2.2.min.js',\n",
       "  'https://jquery-code.su/js/jquery.min.js',\n",
       "  'https://jquery-libs.su/cloud/jquery.min.js',\n",
       "  'https://jquery-libs.su/js/jquery-2.2.2.min.js',\n",
       "  'https://jquery-libs.su/js/jquery.min.js',\n",
       "  'https://jquery-min.su/cloud/jquery.min.js',\n",
       "  'https://jquery-min.su/js/jquery.min.js',\n",
       "  'https://jquery-validation.com/images/paypal-logo.jpg',\n",
       "  'https://jquery-validation.net/cdn/jquery.min.js',\n",
       "  'https://jquery-validation.net/js/jquery.min.js',\n",
       "  'https://jquery-validation.org/cdn/jquery.min.js',\n",
       "  'https://jquery-validation.org/code/jquery.min.js',\n",
       "  'https://jquery-validation.org/js/jquery-2.2.2.min.js',\n",
       "  'https://jquery-web.net/images/paypal-logo.jpg',\n",
       "  'https://jquery-web.net/js/jquery.min.js',\n",
       "  'https://shop-analytics.net/cdn/jquery.min.js',\n",
       "  'https://shop-analytics.net/code/jquery.min.js'},\n",
       " 'infopromo.biz.js': {'https://antaras.xyz/jquery.php',\n",
       "  'https://ausfunken.com/service/css.php',\n",
       "  'https://bad.guy/jquery.php',\n",
       "  'https://clickvisits.biz/xrc.php',\n",
       "  'https://exqzt.com/var/log/jquery.php',\n",
       "  'https://gamula.eu/jquery.php',\n",
       "  'https://gamula.ru/order.php',\n",
       "  'https://infopromo.biz/lib/jquery.php',\n",
       "  'https://redwiggler.org/wp-content/themes/jquery.php',\n",
       "  'https://redwiggler.org/wp-content/themes/jquerys.php',\n",
       "  'https://statsdot.eu/mag.php',\n",
       "  'https://useagleslogistics.com/gates/jquery.php'},\n",
       " 'megalith-games.com.js': {'http://megalith-games.com/log.php?mag=',\n",
       "  'http://www.verigo.verigo.nazwa.pl/components/com_jce/editor/jarjit/log.php?mag=',\n",
       "  'https://t.obet.us/gagal/log.php?mag='}}"
      ]
     },
     "execution_count": 5,
     "metadata": {},
     "output_type": "execute_result"
    }
   ],
   "source": [
    "identified_domains"
   ]
  },
  {
   "cell_type": "code",
   "execution_count": 6,
   "metadata": {
    "collapsed": false
   },
   "outputs": [
    {
     "name": "stdout",
     "output_type": "stream",
     "text": [
      "cloudfusion.me.js: 13\n",
      "infopromo.biz.js: 12\n",
      "amasty.biz: 1\n",
      "grelos_v_simple.js: 42\n",
      "gate.php.js: 15\n",
      "americanwineclub.se.js: 0\n",
      "megalith-games.com.js: 3\n"
     ]
    }
   ],
   "source": [
    "for i in identified_domains:\n",
    "    print(\"{}: {}\".format(i, len(identified_domains[i])))"
   ]
  },
  {
   "cell_type": "code",
   "execution_count": null,
   "metadata": {
    "collapsed": true
   },
   "outputs": [],
   "source": []
  },
  {
   "cell_type": "code",
   "execution_count": null,
   "metadata": {
    "collapsed": true
   },
   "outputs": [],
   "source": []
  },
  {
   "cell_type": "code",
   "execution_count": null,
   "metadata": {
    "collapsed": true
   },
   "outputs": [],
   "source": []
  },
  {
   "cell_type": "code",
   "execution_count": null,
   "metadata": {
    "collapsed": true
   },
   "outputs": [],
   "source": []
  },
  {
   "cell_type": "code",
   "execution_count": null,
   "metadata": {
    "collapsed": true
   },
   "outputs": [],
   "source": [
    "jquery-code.su-multipacked.js_EXPERIMENT2: 41\n",
    "cloudfusion.me.js: 1049\n",
    "infopromo.biz.js: 0\n",
    "grelos_v.js: 1141\n",
    "jquery-code.su-multipacked.js_EXPERIMENT1: 41\n",
    "js-save.link.js: 640\n",
    "jquery-code.su-charcode.js: 1\n",
    "mage-cdn.link.js: 0\n",
    "grelos_v_simple.js: 998\n",
    "ownsafety.org.js: 364\n",
    "americanwineclub.se.js: 1\n",
    "jquery-code.su-multipacked.js: 41\n",
    "jquery-code.su.js: 0\n",
    "amasty.biz.js: 1\n",
    "returntosender.nl.js: 213\n",
    "amasty.biz: 1\n",
    "megalith-games.com.js: 25\n",
    "gate.php.js: 18\n",
    "2sinlesspleasure.com.js: 51"
   ]
  }
 ],
 "metadata": {
  "kernelspec": {
   "display_name": "Python 3",
   "language": "python",
   "name": "python3"
  },
  "language_info": {
   "codemirror_mode": {
    "name": "ipython",
    "version": 3
   },
   "file_extension": ".py",
   "mimetype": "text/x-python",
   "name": "python",
   "nbconvert_exporter": "python",
   "pygments_lexer": "ipython3",
   "version": "3.4.3"
  }
 },
 "nbformat": 4,
 "nbformat_minor": 0
}
