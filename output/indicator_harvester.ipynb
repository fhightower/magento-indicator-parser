{
 "cells": [
  {
   "cell_type": "code",
   "execution_count": 16,
   "metadata": {
    "collapsed": true
   },
   "outputs": [],
   "source": [
    "import json"
   ]
  },
  {
   "cell_type": "code",
   "execution_count": 17,
   "metadata": {
    "collapsed": true
   },
   "outputs": [],
   "source": [
    "indicators = set()"
   ]
  },
  {
   "cell_type": "code",
   "execution_count": 28,
   "metadata": {
    "collapsed": false
   },
   "outputs": [],
   "source": [
    "with open(\"part_4.txt\", \"r\") as f:\n",
    "    d = json.load(f)"
   ]
  },
  {
   "cell_type": "code",
   "execution_count": 29,
   "metadata": {
    "collapsed": true
   },
   "outputs": [],
   "source": [
    "def unicode_cleaning(string):\n",
    "    \"\"\"Clean a unicode string.\"\"\"\n",
    "    cleaned_string = string\n",
    "    \n",
    "    cleaned_string = cleaned_string.replace(\";&#x\", \"\")\n",
    "    # remove the encoding from the start of the string\n",
    "    cleaned_string = cleaned_string.replace(\"&#x\", \"\")\n",
    "    # remove the encoding from the end of the string\n",
    "    cleaned_string = cleaned_string.replace(\";\", \"\")\n",
    "    \n",
    "    return cleaned_string"
   ]
  },
  {
   "cell_type": "code",
   "execution_count": 30,
   "metadata": {
    "collapsed": true
   },
   "outputs": [],
   "source": [
    "def hex_cleaning(string):\n",
    "    \"\"\"Clean a hex string.\"\"\"\n",
    "    cleaned_string = string\n",
    "    \n",
    "    cleaned_string = cleaned_string.replace(\";&#x\", \"\")\n",
    "    # remove the encoding from the start of the string\n",
    "    cleaned_string = cleaned_string.replace(\"&#x\", \"\")\n",
    "    # remove the encoding from the end of the string\n",
    "    cleaned_string = cleaned_string.replace(\";\", \"\")\n",
    "    \n",
    "    return cleaned_string"
   ]
  },
  {
   "cell_type": "code",
   "execution_count": 31,
   "metadata": {
    "collapsed": false
   },
   "outputs": [],
   "source": [
    "for key, value in d.items():\n",
    "    for callback in value:\n",
    "        if \"http\" in callback:\n",
    "            indicators.add(callback)\n",
    "        elif \"&#x\" in callback:\n",
    "            indicators.add(bytes.fromhex(hex_cleaning(callback)).decode('utf-8'))\n",
    "        elif \"34,104,116,116,\" in callback:\n",
    "            print(callback + \"\\n\")"
   ]
  },
  {
   "cell_type": "code",
   "execution_count": 32,
   "metadata": {
    "collapsed": false
   },
   "outputs": [
    {
     "data": {
      "text/plain": [
       "71"
      ]
     },
     "execution_count": 32,
     "metadata": {},
     "output_type": "execute_result"
    }
   ],
   "source": [
    "len(indicators)"
   ]
  },
  {
   "cell_type": "code",
   "execution_count": 33,
   "metadata": {
    "collapsed": false
   },
   "outputs": [
    {
     "name": "stdout",
     "output_type": "stream",
     "text": [
      "- https://dittm.org/api/index.php\n",
      "- https://jquery-cdn.com/cdn/jquery.min.js\n",
      "- https://upsbroker.com/js/jquery-1.9.2.min.js\n",
      "- https://jquery-libs.su/cloud/jquery.min.js\n",
      "- https://jquery-validation.org/cdn/jquery.min.js\n",
      "- https://jcloudcdn.com/gate.php?token=KjsS29Msl&host=www.mandrelbends.com\n",
      "- https://jquery-code.su/js/jquery-2.2.2.min.js\n",
      "- https://jcloudcdn.com/gate.php?token=KjsS29Msl&host=thecornishfishmonger.co.uk\n",
      "- https://cloud-jquery.com/images/paypal-logo.jpg\n",
      "- https://jquery-cdn.com/code/jquery.min.js\n",
      "- https://jcloudcdn.com/gate.php?token=KjsS29Msl&host=www.maybebabykids.com\n",
      "- https://cloudfusion.me/cdn/jquery.min.js\n",
      "- http://megalith-games.com/log.php?mag=\n",
      "- https://jquery-code.su/images/lite.js\n",
      "- https://cloud-jquery.com/code/jquery.min.js\n",
      "- https://jquery-min.su/cloud/jquery.min.js\n",
      "- https://jcloudcdn.com/gate.php?token=KjsS29Msl&host=www.yourhomedepot.com.au\n",
      "- https://jquery-cloud.org/cdn/jquery.min.js\n",
      "- https://icon-base.biz/code/jquery.min.js\n",
      "- https://jquery-cloud.org/code/jquery.min.js\n",
      "- https://jcloudcdn.com/gate.php?token=KjsS29Msl&host=www.tiespecialist.com\n",
      "- https://ownsafety.org/opp.php\n",
      "- https://amasty.biz/lib/paypal_icon.jpg\n",
      "- https://jquery-web.net/images/paypal-logo.jpg\n",
      "- https://cloud-jquery.org/images/paypal-logo.jpg\n",
      "- https://jquery-validation.org/code/jquery.min.js\n",
      "- https://t.obet.us/gagal/log.php?mag=\n",
      "- http://ownsafety.org/opp.php\n",
      "- https://jquery-cdn.com/cloud/jquery.min.js\n",
      "- https://jcloudcdn.com/gate.php?token=KjsS29Msl&host=graysonhobby.com\n",
      "- https://jcloudcdn.com/gate.php?token=KjsS29Msl&host=www.pakshop.eu\n",
      "- https://jquery-validation.net/cdn/jquery.min.js\n",
      "- https://cloud-jquery.com/js/jquery-2.2.2.min.js\n",
      "- https://code.jquery.com/jquery-1.12.2.min.js\n",
      "- http://www.verigo.verigo.nazwa.pl/components/com_jce/editor/jarjit/log.php?mag=\n",
      "- https://jquery-min.su/js/jquery.min.js\n",
      "- https://jquery-libs.su/images/paypal-logo.jpg\n",
      "- https://cloud-jquery.net/js/jquery-2.2.2.min.js\n",
      "- https://jcloudcdn.com/gate.php?token=KjsS29Msl&host=www.central-textiles.net\n",
      "- https://jquery-validation.com/images/paypal-logo.jpg\n",
      "- https://jcloudcdn.com/gate.php?token=KjsS29Msl&host=www.terraskitchen.com\n",
      "- https://jcloudcdn.com/gate.php?token=KjsS29Msl&host=www.eckraus.com\n",
      "- https://jquery-libs.su/js/jquery.min.js\n",
      "- https://jquery-libs.su/js/jquery-2.2.2.min.js\n",
      "- https://jquery-cloud.org/js/jquery.min.js\n",
      "- https://jquery-web.net/js/jquery.min.js\n",
      "- https://cloud-jquery.net/cdn/jquery.min.js\n",
      "- https://ups-broker.org/js/jquery-1.9.2.min.js\n",
      "- https://cloud-jquery.net/images/paypal-logo.jpg\n",
      "- http://dittm.org/api/\n",
      "- https://jcloudcdn.com/gate.php?token=KjsS29Msl&host=www.inthisveryroom.com\n",
      "- https://jquery-validation.net/js/jquery.min.js\n",
      "- https://jcloudcdn.com/gate.php?token=KjsS29Msl&host=getdancewear.com\n",
      "- https://shop-analytics.net/code/jquery.min.js\n",
      "- https://jquery-code.su/js/jquery.min.js\n",
      "- https://jquery-code.su/cloud/jquery.min.js\n",
      "- https://jquery-validation.org/js/jquery-2.2.2.min.js\n",
      "- https://jcloudcdn.com/gate.php?token=KjsS29Msl&host=multifitblades.com\n",
      "- https://cloud-jquery.com/cdn/jquery.min.js\n",
      "- https://jquery-cloud.net/code/jquery.min.js\n",
      "- https://jquery-cloud.net/js/jquery-2.2.1.min.js\n",
      "- https://cloud-jquery.com/cloud/jquery.min.js\n",
      "- https://jquery-cloud.org/js/jquery-2.2.1.min.js\n",
      "- https://cloud-jquery.net/code/jquery.min.js\n",
      "- https://cloud-jquery.org/js/jquery-2.2.2.min.js\n",
      "- https://cloud-jquery.org/code/jquery.min.js\n",
      "- https://cloud-jquery.org/cdn/jquery.min.js\n",
      "- https://jcloudcdn.com/gate.php?token=KjsS29Msl&host=www.barenecessities.co.uk\n",
      "- https://iozoz.com/api/index.php\n",
      "- https://shop-analytics.net/cdn/jquery.min.js\n",
      "- https://jcloudcdn.com/gate.php?token=KjsS29Msl&host=www.fabricmill.com\n"
     ]
    }
   ],
   "source": [
    "for indicator in indicators:\n",
    "    print(\"- {}\".format(indicator))"
   ]
  },
  {
   "cell_type": "code",
   "execution_count": null,
   "metadata": {
    "collapsed": true
   },
   "outputs": [],
   "source": []
  }
 ],
 "metadata": {
  "kernelspec": {
   "display_name": "Python 3",
   "language": "python",
   "name": "python3"
  },
  "language_info": {
   "codemirror_mode": {
    "name": "ipython",
    "version": 3
   },
   "file_extension": ".py",
   "mimetype": "text/x-python",
   "name": "python",
   "nbconvert_exporter": "python",
   "pygments_lexer": "ipython3",
   "version": "3.4.3"
  }
 },
 "nbformat": 4,
 "nbformat_minor": 1
}
