{
 "cells": [
  {
   "cell_type": "code",
   "execution_count": null,
   "metadata": {
    "collapsed": true
   },
   "outputs": [],
   "source": [
    "import json"
   ]
  },
  {
   "cell_type": "code",
   "execution_count": null,
   "metadata": {
    "collapsed": true
   },
   "outputs": [],
   "source": [
    "indicators = set()"
   ]
  },
  {
   "cell_type": "code",
   "execution_count": null,
   "metadata": {
    "collapsed": false
   },
   "outputs": [],
   "source": [
    "with open(\"part_3.txt\", \"r\") as f:\n",
    "    d = json.load(f)"
   ]
  },
  {
   "cell_type": "code",
   "execution_count": null,
   "metadata": {
    "collapsed": true
   },
   "outputs": [],
   "source": [
    "def unicode_cleaning(string):\n",
    "    \"\"\"Clean a unicode string.\"\"\"\n",
    "    cleaned_string = string\n",
    "    \n",
    "    cleaned_string = cleaned_string.replace(\";&#x\", \"\")\n",
    "    # remove the encoding from the start of the string\n",
    "    cleaned_string = cleaned_string.replace(\"&#x\", \"\")\n",
    "    # remove the encoding from the end of the string\n",
    "    cleaned_string = cleaned_string.replace(\";\", \"\")\n",
    "    \n",
    "    return cleaned_string"
   ]
  },
  {
   "cell_type": "code",
   "execution_count": null,
   "metadata": {
    "collapsed": true
   },
   "outputs": [],
   "source": [
    "def hex_cleaning(string):\n",
    "    \"\"\"Clean a hex string.\"\"\"\n",
    "    cleaned_string = string\n",
    "    \n",
    "    cleaned_string = cleaned_string.replace(\";&#x\", \"\")\n",
    "    # remove the encoding from the start of the string\n",
    "    cleaned_string = cleaned_string.replace(\"&#x\", \"\")\n",
    "    # remove the encoding from the end of the string\n",
    "    cleaned_string = cleaned_string.replace(\";\", \"\")\n",
    "    \n",
    "    return cleaned_string"
   ]
  },
  {
   "cell_type": "code",
   "execution_count": null,
   "metadata": {
    "collapsed": false
   },
   "outputs": [],
   "source": [
    "for key, value in d.items():\n",
    "    for callback in value:\n",
    "        # use this if statement for part_3 (and comment out the one below it)\n",
    "#         if \"\\\\\" not in callback:\n",
    "#             indicators.add(callback)\n",
    "        if \"http\" in callback:\n",
    "            indicators.add(callback)\n",
    "        elif \"&#x\" in callback:\n",
    "            indicators.add(bytes.fromhex(hex_cleaning(callback)).decode('utf-8'))\n",
    "        elif \"34,104,116,116,\" in callback:\n",
    "            print(callback + \"\\n\")\n",
    "        "
   ]
  },
  {
   "cell_type": "code",
   "execution_count": null,
   "metadata": {
    "collapsed": false
   },
   "outputs": [],
   "source": [
    "len(indicators)"
   ]
  },
  {
   "cell_type": "code",
   "execution_count": null,
   "metadata": {
    "collapsed": false
   },
   "outputs": [],
   "source": [
    "for indicator in indicators:\n",
    "    print(\"- {}\".format(indicator))"
   ]
  },
  {
   "cell_type": "code",
   "execution_count": null,
   "metadata": {
    "collapsed": true
   },
   "outputs": [],
   "source": []
  }
 ],
 "metadata": {
  "kernelspec": {
   "display_name": "Python 3",
   "language": "python",
   "name": "python3"
  },
  "language_info": {
   "codemirror_mode": {
    "name": "ipython",
    "version": 3
   },
   "file_extension": ".py",
   "mimetype": "text/x-python",
   "name": "python",
   "nbconvert_exporter": "python",
   "pygments_lexer": "ipython3",
   "version": "3.4.3"
  }
 },
 "nbformat": 4,
 "nbformat_minor": 1
}
